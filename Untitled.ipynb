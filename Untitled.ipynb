{
 "cells": [
  {
   "cell_type": "code",
   "execution_count": 2,
   "id": "laden-canal",
   "metadata": {},
   "outputs": [
    {
     "data": {
      "image/png": "[encoded data removed]",
      "text/plain": [
       "plot without title"
      ]
     },
     "metadata": {
      "image/png": {
       "height": 420,
       "width": 420
      }
     },
     "output_type": "display_data"
    }
   ],
   "source": [
    "x <- seq(0, 4*pi, length.out = 201)\n",
    "y <- sin(x) + cos(x + x)\n",
    "plot(y)"
   ]
  },
  {
   "cell_type": "code",
   "execution_count": 3,
   "id": "innovative-coordinate",
   "metadata": {},
   "outputs": [
    {
     "name": "stderr",
     "output_type": "stream",
     "text": [
      "Warning message:\n",
      "\"package 'gramEvol' was built under R version 4.0.5\"\n"
     ]
    },
    {
     "data": {
      "text/plain": [
       "<expr> ::= <op>(<expr>, <expr>) | <func>(<expr>) | <var>\n",
       "<func> ::= `sin` | `cos`\n",
       "<op>   ::= \"+\" | \"-\" | \"*\"\n",
       "<var>  ::= x"
      ]
     },
     "metadata": {},
     "output_type": "display_data"
    }
   ],
   "source": [
    "library(\"gramEvol\")\n",
    "ruleDef <- list(expr = grule(op(expr, expr), func(expr), var),\n",
    "                func = grule(sin, cos),\n",
    "                op = grule('+', '-', '*'),\n",
    "                var = grule(x))\n",
    "grammarDef <- CreateGrammar(ruleDef)\n",
    "grammarDef"
   ]
  },
  {
   "cell_type": "code",
   "execution_count": 10,
   "id": "academic-computer",
   "metadata": {},
   "outputs": [
    {
     "data": {
      "text/plain": [
       "[[1]]\n",
       "expression(x)\n",
       "\n",
       "[[2]]\n",
       "expression(x)\n"
      ]
     },
     "metadata": {},
     "output_type": "display_data"
    }
   ],
   "source": [
    "set.seed(123)\n",
    "GrammarRandomExpression(grammarDef, 2, max.depth = 2)"
   ]
  },
  {
   "cell_type": "code",
   "execution_count": null,
   "id": "maritime-provincial",
   "metadata": {},
   "outputs": [],
   "source": []
  }
 ],
 "metadata": {
  "kernelspec": {
   "display_name": "R",
   "language": "R",
   "name": "ir"
  },
  "language_info": {
   "codemirror_mode": "r",
   "file_extension": ".r",
   "mimetype": "text/x-r-source",
   "name": "R",
   "pygments_lexer": "r",
   "version": "4.0.4"
  }
 },
 "nbformat": 4,
 "nbformat_minor": 5
}
