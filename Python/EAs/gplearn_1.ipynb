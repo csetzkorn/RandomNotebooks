{
 "cells": [
  {
   "cell_type": "markdown",
   "id": "worldwide-individual",
   "metadata": {},
   "source": [
    "# prep"
   ]
  },
  {
   "cell_type": "code",
   "execution_count": 1,
   "id": "common-gossip",
   "metadata": {},
   "outputs": [
    {
     "name": "stderr",
     "output_type": "stream",
     "text": [
      "<ipython-input-1-320612cb3c73>:24: RuntimeWarning: invalid value encountered in true_divide\n",
      "  return x/y\n"
     ]
    },
    {
     "ename": "ValueError",
     "evalue": "supplied function protected_division does not have closure against zeros in argument vectors.",
     "output_type": "error",
     "traceback": [
      "\u001b[1;31m---------------------------------------------------------------------------\u001b[0m",
      "\u001b[1;31mValueError\u001b[0m                                Traceback (most recent call last)",
      "\u001b[1;32m<ipython-input-1-320612cb3c73>\u001b[0m in \u001b[0;36m<module>\u001b[1;34m\u001b[0m\n\u001b[0;32m     27\u001b[0m \u001b[1;33m\u001b[0m\u001b[0m\n\u001b[0;32m     28\u001b[0m \u001b[0mpow_3\u001b[0m \u001b[1;33m=\u001b[0m \u001b[0mmake_function\u001b[0m\u001b[1;33m(\u001b[0m\u001b[0mfunction\u001b[0m\u001b[1;33m=\u001b[0m\u001b[0mpow_3\u001b[0m\u001b[1;33m,\u001b[0m \u001b[0mname\u001b[0m\u001b[1;33m=\u001b[0m\u001b[1;34m'pow3'\u001b[0m\u001b[1;33m,\u001b[0m \u001b[0marity\u001b[0m\u001b[1;33m=\u001b[0m\u001b[1;36m1\u001b[0m\u001b[1;33m)\u001b[0m\u001b[1;33m\u001b[0m\u001b[1;33m\u001b[0m\u001b[0m\n\u001b[1;32m---> 29\u001b[1;33m \u001b[0mprotected_division\u001b[0m \u001b[1;33m=\u001b[0m \u001b[0mmake_function\u001b[0m\u001b[1;33m(\u001b[0m\u001b[0mfunction\u001b[0m\u001b[1;33m=\u001b[0m\u001b[0mprotected_division\u001b[0m\u001b[1;33m,\u001b[0m \u001b[0mname\u001b[0m\u001b[1;33m=\u001b[0m\u001b[1;34m'protected_division'\u001b[0m\u001b[1;33m,\u001b[0m\u001b[0marity\u001b[0m\u001b[1;33m=\u001b[0m\u001b[1;36m2\u001b[0m\u001b[1;33m)\u001b[0m\u001b[1;33m\u001b[0m\u001b[1;33m\u001b[0m\u001b[0m\n\u001b[0m\u001b[0;32m     30\u001b[0m \u001b[1;33m\u001b[0m\u001b[0m\n\u001b[0;32m     31\u001b[0m converter = {\n",
      "\u001b[1;32mc:\\python\\python39\\lib\\site-packages\\gplearn\\functions.py\u001b[0m in \u001b[0;36mmake_function\u001b[1;34m(function, name, arity, wrap)\u001b[0m\n\u001b[0;32m    106\u001b[0m     \u001b[0margs\u001b[0m \u001b[1;33m=\u001b[0m \u001b[1;33m[\u001b[0m\u001b[0mnp\u001b[0m\u001b[1;33m.\u001b[0m\u001b[0mzeros\u001b[0m\u001b[1;33m(\u001b[0m\u001b[1;36m10\u001b[0m\u001b[1;33m)\u001b[0m \u001b[1;32mfor\u001b[0m \u001b[0m_\u001b[0m \u001b[1;32min\u001b[0m \u001b[0mrange\u001b[0m\u001b[1;33m(\u001b[0m\u001b[0marity\u001b[0m\u001b[1;33m)\u001b[0m\u001b[1;33m]\u001b[0m\u001b[1;33m\u001b[0m\u001b[1;33m\u001b[0m\u001b[0m\n\u001b[0;32m    107\u001b[0m     \u001b[1;32mif\u001b[0m \u001b[1;32mnot\u001b[0m \u001b[0mnp\u001b[0m\u001b[1;33m.\u001b[0m\u001b[0mall\u001b[0m\u001b[1;33m(\u001b[0m\u001b[0mnp\u001b[0m\u001b[1;33m.\u001b[0m\u001b[0misfinite\u001b[0m\u001b[1;33m(\u001b[0m\u001b[0mfunction\u001b[0m\u001b[1;33m(\u001b[0m\u001b[1;33m*\u001b[0m\u001b[0margs\u001b[0m\u001b[1;33m)\u001b[0m\u001b[1;33m)\u001b[0m\u001b[1;33m)\u001b[0m\u001b[1;33m:\u001b[0m\u001b[1;33m\u001b[0m\u001b[1;33m\u001b[0m\u001b[0m\n\u001b[1;32m--> 108\u001b[1;33m         raise ValueError('supplied function %s does not have closure against '\n\u001b[0m\u001b[0;32m    109\u001b[0m                          'zeros in argument vectors.' % name)\n\u001b[0;32m    110\u001b[0m     \u001b[0margs\u001b[0m \u001b[1;33m=\u001b[0m \u001b[1;33m[\u001b[0m\u001b[1;33m-\u001b[0m\u001b[1;36m1\u001b[0m \u001b[1;33m*\u001b[0m \u001b[0mnp\u001b[0m\u001b[1;33m.\u001b[0m\u001b[0mones\u001b[0m\u001b[1;33m(\u001b[0m\u001b[1;36m10\u001b[0m\u001b[1;33m)\u001b[0m \u001b[1;32mfor\u001b[0m \u001b[0m_\u001b[0m \u001b[1;32min\u001b[0m \u001b[0mrange\u001b[0m\u001b[1;33m(\u001b[0m\u001b[0marity\u001b[0m\u001b[1;33m)\u001b[0m\u001b[1;33m]\u001b[0m\u001b[1;33m\u001b[0m\u001b[1;33m\u001b[0m\u001b[0m\n",
      "\u001b[1;31mValueError\u001b[0m: supplied function protected_division does not have closure against zeros in argument vectors."
     ]
    }
   ],
   "source": [
    "from deap import base\n",
    "from deap import creator\n",
    "from deap import tools\n",
    "\n",
    "import pandas as pd\n",
    "import random\n",
    "import numpy as np\n",
    "from sympy import *\n",
    "from graphviz import *\n",
    "\n",
    "import matplotlib.pyplot as plt\n",
    "import seaborn as sns\n",
    "from gplearn.genetic import SymbolicRegressor\n",
    "from gplearn.functions import make_function\n",
    "from sklearn.model_selection import train_test_split\n",
    "import statsmodels.api as sm \n",
    "\n",
    "def pow_3(x1):\n",
    "    f = x1**3\n",
    "    return f\n",
    "\n",
    "def protected_division(x,y):\n",
    "    try:\n",
    "        return x/y\n",
    "    except ZeroDivisionError:\n",
    "        return 0\n",
    "\n",
    "pow_3 = make_function(function=pow_3, name='pow3', arity=1)\n",
    "protected_division = make_function(function=protected_division, name='protected_division', arity=2)\n",
    "\n",
    "converter = {\n",
    "    'sub': lambda x, y : x - y,\n",
    "    #'div': lambda x, y : x/y,\n",
    "    'mul': lambda x, y : x*y,\n",
    "    'add': lambda x, y : x + y,\n",
    "    'neg': lambda x    : -x,\n",
    "    'pow': lambda x, y : x**y,\n",
    "    'sin': lambda x    : sin(x),\n",
    "    'cos': lambda x    : cos(x),\n",
    "    'log': lambda x    : ln(x),\n",
    "    'inv': lambda x: 1/x,\n",
    "    'sqrt': lambda x: x**0.5,\n",
    "    'pow3': lambda x: x**3,\n",
    "    'protected_division': lambda x: x/y,\n",
    "}"
   ]
  },
  {
   "cell_type": "code",
   "execution_count": null,
   "id": "agreed-nebraska",
   "metadata": {},
   "outputs": [
    {
     "name": "stdout",
     "output_type": "stream",
     "text": [
      "    |   Population Average    |             Best Individual              |\n",
      "---- ------------------------- ------------------------------------------ ----------\n",
      " Gen   Length          Fitness   Length          Fitness      OOB Fitness  Time Left\n",
      "   0    12.62      3.4096e+134        4          16.1472          10.9212      4.41m\n",
      "   1    10.06      5.75637e+40       12          14.7471          19.1889      4.39m\n",
      "   2     8.78      7.11374e+13        4          14.8138          22.9223      3.51m\n",
      "   3     8.88      2.94318e+23       12          10.8084          11.3534     14.58m\n",
      "   4     8.06      4.92231e+40       15          7.20635          7.25754     17.75m\n",
      "   5     9.50      2.71409e+37       15          7.11218          8.10509     16.72m\n",
      "   6    12.41      3.36796e+37       23          6.89953          7.04161     14.87m\n",
      "   7    14.49      5.50037e+45       13          6.89445          8.65066     14.81m\n",
      "   8    17.30      2.92384e+11       34          6.54792          8.34345     16.56m\n",
      "   9    20.30      1.32922e+83       20          6.34137          7.91849     17.60m\n",
      "  10    25.27      8.14269e+37       30          6.32642          6.84037     17.74m\n",
      "  11    32.91     7.40769e+128       59          6.07085           7.5148     19.56m\n",
      "  12    37.94      3.39073e+37       43          5.55685          5.16496     21.30m\n",
      "  13    39.39      4.15586e+79       59          5.10789          5.33478     20.88m\n",
      "  14    46.44      8.65379e+66       53          4.15785          3.47114     22.56m\n",
      "  15    55.71      3.93854e+17       53          4.15056          3.53672     24.84m\n",
      "  16    63.91      1.72627e+41       53          4.00657          4.83265     26.05m\n",
      "  17    71.22      9.17098e+57       88           3.8777          5.18132     28.74m\n",
      "  18    74.11      2.16057e+47       87          3.78215          5.26861     28.30m\n",
      "  19    85.07      2.73966e+45       60          3.77149          6.07724     32.43m\n",
      "  20    89.07      3.01116e+37      114          3.65397          6.59725     31.36m\n",
      "  21    93.74      2.46549e+80       91          3.49736          3.57813     31.30m\n"
     ]
    },
    {
     "name": "stderr",
     "output_type": "stream",
     "text": [
      "<ipython-input-91-123b1e43a488>:19: RuntimeWarning: overflow encountered in power\n",
      "  f = x1**3\n"
     ]
    },
    {
     "name": "stdout",
     "output_type": "stream",
     "text": [
      "  22   101.21      8.96104e+34       92          3.38467          4.24152    408.94m\n"
     ]
    },
    {
     "name": "stderr",
     "output_type": "stream",
     "text": [
      "c:\\python\\python39\\lib\\site-packages\\gplearn\\functions.py:46: RuntimeWarning: invalid value encountered in cos\n",
      "  return self.function(*args)\n",
      "c:\\python\\python39\\lib\\site-packages\\numpy\\lib\\function_base.py:412: RuntimeWarning: invalid value encountered in multiply\n",
      "  avg = np.multiply(a, wgt, dtype=result_dtype).sum(axis)/scl\n"
     ]
    },
    {
     "name": "stdout",
     "output_type": "stream",
     "text": [
      "  23   111.76              inf      101          3.32124          4.77872     38.96m\n",
      "  24   111.23      6.97595e+45      108          3.28407          5.53462     34.90m\n",
      "  25   104.94      3.41498e+47      187          3.19965          5.61622     33.12m\n",
      "  26   102.78      4.11879e+51      154          3.20383          5.43902     32.78m\n",
      "  27   100.92      1.26355e+40      115          3.08999          5.79429     31.40m\n",
      "  28   102.99     7.43854e+128      145          3.13566          5.43759     30.98m\n",
      "  29   104.82      9.22718e+70      246          3.10647          5.54806     31.30m\n",
      "  30   105.75      2.62618e+65      146          3.15776          4.49127     31.10m\n",
      "  31   104.16      6.39981e+40      127          3.06107          5.10754     31.14m\n",
      "  32   106.29              nan       98              nan              nan     30.05m\n",
      "  33   108.46              nan       86              nan              nan     29.84m\n"
     ]
    },
    {
     "name": "stderr",
     "output_type": "stream",
     "text": [
      "c:\\python\\python39\\lib\\site-packages\\gplearn\\functions.py:46: RuntimeWarning: overflow encountered in multiply\n",
      "  return self.function(*args)\n",
      "c:\\python\\python39\\lib\\site-packages\\gplearn\\functions.py:46: RuntimeWarning: invalid value encountered in subtract\n",
      "  return self.function(*args)\n",
      "c:\\python\\python39\\lib\\site-packages\\gplearn\\functions.py:46: RuntimeWarning: invalid value encountered in sin\n",
      "  return self.function(*args)\n",
      "c:\\python\\python39\\lib\\site-packages\\gplearn\\functions.py:46: RuntimeWarning: invalid value encountered in multiply\n",
      "  return self.function(*args)\n"
     ]
    },
    {
     "name": "stdout",
     "output_type": "stream",
     "text": [
      "  34   111.54              nan      106              nan              nan     30.36m\n"
     ]
    },
    {
     "name": "stderr",
     "output_type": "stream",
     "text": [
      "c:\\python\\python39\\lib\\site-packages\\gplearn\\functions.py:46: RuntimeWarning: invalid value encountered in add\n",
      "  return self.function(*args)\n"
     ]
    },
    {
     "name": "stdout",
     "output_type": "stream",
     "text": [
      "  35   118.54              nan      197              nan              nan     30.97m\n"
     ]
    },
    {
     "name": "stderr",
     "output_type": "stream",
     "text": [
      "c:\\python\\python39\\lib\\site-packages\\gplearn\\functions.py:127: RuntimeWarning: overflow encountered in true_divide\n",
      "  return np.where(np.abs(x2) > 0.001, np.divide(x1, x2), 1.)\n"
     ]
    },
    {
     "name": "stdout",
     "output_type": "stream",
     "text": [
      "  36   134.04              nan      161              nan              nan     34.66m\n",
      "  37   146.00              nan       88              nan              nan     36.10m\n",
      "  38   157.26              nan      107              nan              nan     37.37m\n"
     ]
    },
    {
     "name": "stderr",
     "output_type": "stream",
     "text": [
      "c:\\python\\python39\\lib\\site-packages\\gplearn\\functions.py:144: RuntimeWarning: overflow encountered in true_divide\n",
      "  return np.where(np.abs(x1) > 0.001, 1. / x1, 0.)\n"
     ]
    },
    {
     "name": "stdout",
     "output_type": "stream",
     "text": [
      "  39   168.96              nan      204              nan              nan     39.47m\n",
      "  40   183.17              nan      250              nan              nan     41.19m\n",
      "  41   194.67              nan      141              nan              nan     42.66m\n",
      "  42   205.59              nan      232              nan              nan     43.58m\n",
      "  43   219.79              nan      369              nan              nan     45.04m\n",
      "  44   232.42              nan       93              nan              nan     46.97m\n",
      "  45   243.52              nan      229              nan              nan     48.54m\n",
      "  46   257.26              nan      167              nan              nan     50.76m\n"
     ]
    }
   ],
   "source": [
    "nsample = 400\n",
    "sig = 0.2\n",
    "x = np.linspace(-50, 50, nsample)\n",
    "X = np.column_stack((x/5, 10*np.sin(x), (x-5)**3, np.ones(nsample)))\n",
    "beta = [0.01, 1, 0.001, 5.]\n",
    "y_true = np.dot(X, beta)\n",
    "y = y_true + sig * np.random.normal(size=nsample)\n",
    "df = pd.DataFrame()\n",
    "df['x']=x\n",
    "df['y']=y\n",
    "\n",
    "y = df['y']\n",
    "X = df[['x']]\n",
    "\n",
    "X_train, X_test, y_train, y_test = train_test_split(X, y, test_size=0.30, random_state=42)\n",
    "\n",
    "# , pow_3\n",
    "# First Test\n",
    "function_set = ['add', 'sub', 'mul', protected_division, 'cos', 'sin', 'neg', 'inv', 'log', pow_3]\n",
    "\n",
    "est_gp = SymbolicRegressor(\n",
    "    population_size=5000\n",
    "    ,metric=\"mean absolute error\" # rmse\n",
    "    ,function_set=function_set\n",
    "    ,generations=20\n",
    "    ,stopping_criteria=0.01\n",
    "    ,p_crossover=0.7\n",
    "    ,p_subtree_mutation=0.1\n",
    "    ,p_hoist_mutation=0.05\n",
    "    ,p_point_mutation=0.1\n",
    "    ,max_samples=0.9\n",
    "    ,verbose=1\n",
    "    ,parsimony_coefficient=0.001\n",
    "    ,random_state=0\n",
    "    ,feature_names=X_train.columns\n",
    ")\n",
    "                          \n",
    "est_gp.fit(X_train, y_train)\n",
    "print('R2:',est_gp.score(X_test,y_test))\n",
    "next_e = sympify((est_gp._program), locals=converter)\n",
    "next_e   \n",
    "\n",
    "print(est_gp._program) \n",
    "df['prediction'] = est_gp.predict(X)\n",
    "df.to_csv('c:/data/test.csv', index=False)"
   ]
  },
  {
   "cell_type": "code",
   "execution_count": null,
   "id": "quarterly-council",
   "metadata": {},
   "outputs": [],
   "source": []
  },
  {
   "cell_type": "code",
   "execution_count": null,
   "id": "listed-tourist",
   "metadata": {},
   "outputs": [],
   "source": []
  }
 ],
 "metadata": {
  "kernelspec": {
   "display_name": "Python 3",
   "language": "python",
   "name": "python3"
  },
  "language_info": {
   "codemirror_mode": {
    "name": "ipython",
    "version": 3
   },
   "file_extension": ".py",
   "mimetype": "text/x-python",
   "name": "python",
   "nbconvert_exporter": "python",
   "pygments_lexer": "ipython3",
   "version": "3.9.2"
  }
 },
 "nbformat": 4,
 "nbformat_minor": 5
}
