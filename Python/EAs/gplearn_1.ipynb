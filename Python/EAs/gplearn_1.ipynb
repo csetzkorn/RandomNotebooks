{
 "cells": [
  {
   "cell_type": "markdown",
   "id": "controversial-mention",
   "metadata": {},
   "source": [
    "# prep"
   ]
  },
  {
   "cell_type": "code",
   "execution_count": 87,
   "id": "recreational-evening",
   "metadata": {},
   "outputs": [],
   "source": [
    "from deap import base\n",
    "from deap import creator\n",
    "from deap import tools\n",
    "\n",
    "import pandas as pd\n",
    "import random\n",
    "import numpy as np\n",
    "from sympy import *\n",
    "from graphviz import *\n",
    "\n",
    "import matplotlib.pyplot as plt\n",
    "import seaborn as sns\n",
    "from gplearn.genetic import SymbolicRegressor\n",
    "from gplearn.functions import make_function\n",
    "from sklearn.model_selection import train_test_split\n",
    "import statsmodels.api as sm \n",
    "\n",
    "def pow_3(x1):\n",
    "    f = x1**3\n",
    "    return f\n",
    "pow_3 = make_function(function=pow_3,name='pow3',arity=1)\n",
    "\n",
    "converter = {\n",
    "    'sub': lambda x, y : x - y,\n",
    "    'div': lambda x, y : x/y,\n",
    "    'mul': lambda x, y : x*y,\n",
    "    'add': lambda x, y : x + y,\n",
    "    'neg': lambda x    : -x,\n",
    "    'pow': lambda x, y : x**y,\n",
    "    'sin': lambda x    : sin(x),\n",
    "    'cos': lambda x    : cos(x),\n",
    "    'log': lambda x    : ln(x),\n",
    "    'inv': lambda x: 1/x,\n",
    "    'sqrt': lambda x: x**0.5,\n",
    "    'pow3': lambda x: x**3\n",
    "}\n"
   ]
  },
  {
   "cell_type": "code",
   "execution_count": null,
   "id": "expressed-exhaust",
   "metadata": {},
   "outputs": [
    {
     "name": "stdout",
     "output_type": "stream",
     "text": [
      "    |   Population Average    |             Best Individual              |\n",
      "---- ------------------------- ------------------------------------------ ----------\n",
      " Gen   Length          Fitness   Length          Fitness      OOB Fitness  Time Left\n",
      "   0    14.13      8.67143e+06       16          22.8598          25.0129      4.15m\n",
      "   1    12.89           143.17       54          20.2202          21.9061      3.99m\n",
      "   2    16.32          121.615       42          18.9818          17.0851      4.58m\n",
      "   3    22.56           130.12       58          15.2266          15.9139      4.97m\n",
      "   4    33.26          551.887       75          14.9481          12.9553      5.58m\n",
      "   5    42.61          1266.45       71          14.3451          18.0289      6.52m\n",
      "   6    42.75          945.041       60          14.0232          12.1891      6.26m\n",
      "   7    50.06          700.824      143          13.2886          9.83953      6.76m\n",
      "   8    67.01          912.532       62          11.1667          8.59271      7.74m\n",
      "   9    77.29          4857.63      155          10.5949          12.2385      8.46m\n",
      "  10   108.49          2837.29      155          10.4871          11.0881     10.14m\n",
      "  11   138.00          6324.12       86          9.64245          10.9651     11.70m\n",
      "  12   132.79          1812.81      109          9.06422          7.75197     11.33m\n",
      "  13   146.21          17360.6      114          8.52313          8.07257     11.76m\n",
      "  14   126.26          1026.21       94          8.05544          7.88498     10.98m\n",
      "  15   109.48          1270.88      122          7.89052          10.4811     10.13m\n",
      "  16   114.00          1608.99      195          7.50488          7.19785     10.94m\n",
      "  17   123.80          1403.42      128          7.21747          8.90044     10.76m\n"
     ]
    }
   ],
   "source": [
    "nsample = 400\n",
    "sig = 0.2\n",
    "x = np.linspace(-50, 50, nsample)\n",
    "X = np.column_stack((x/5, 10*np.sin(x), (x-5)**3, np.ones(nsample)))\n",
    "beta = [0.01, 1, 0.001, 5.]\n",
    "y_true = np.dot(X, beta)\n",
    "y = y_true + sig * np.random.normal(size=nsample)\n",
    "df = pd.DataFrame()\n",
    "df['x']=x\n",
    "df['y']=y\n",
    "\n",
    "y = df['y']\n",
    "X = df[['x']]\n",
    "\n",
    "X_train, X_test, y_train, y_test = train_test_split(X, y, test_size=0.30, random_state=42)\n",
    "\n",
    "# , pow_3\n",
    "# First Test\n",
    "function_set = ['add', 'sub', 'mul', 'div', 'cos', 'sin', 'neg', 'inv', 'log']\n",
    "\n",
    "est_gp = SymbolicRegressor(\n",
    "    population_size=5000\n",
    "    ,metric=\"rmse\" # mean absolute error\n",
    "    ,function_set=function_set\n",
    "    ,generations=100\n",
    "    ,stopping_criteria=0.01\n",
    "    ,p_crossover=0.7\n",
    "    ,p_subtree_mutation=0.1\n",
    "    ,p_hoist_mutation=0.05\n",
    "    ,p_point_mutation=0.1\n",
    "    ,max_samples=0.9\n",
    "    ,verbose=1\n",
    "    ,parsimony_coefficient=0.001\n",
    "    ,random_state=0\n",
    "    ,feature_names=X_train.columns\n",
    ")\n",
    "                          \n",
    "est_gp.fit(X_train, y_train)\n",
    "print('R2:',est_gp.score(X_test,y_test))\n",
    "next_e = sympify((est_gp._program), locals=converter)\n",
    "next_e   \n",
    "\n",
    "print(est_gp._program) \n",
    "df['prediction'] = est_gp.predict(X)\n",
    "df.to_csv('c:/data/test.csv', index=False)"
   ]
  },
  {
   "cell_type": "code",
   "execution_count": null,
   "id": "proved-stream",
   "metadata": {},
   "outputs": [],
   "source": []
  },
  {
   "cell_type": "code",
   "execution_count": null,
   "id": "northern-force",
   "metadata": {},
   "outputs": [],
   "source": []
  }
 ],
 "metadata": {
  "kernelspec": {
   "display_name": "Python 3",
   "language": "python",
   "name": "python3"
  },
  "language_info": {
   "codemirror_mode": {
    "name": "ipython",
    "version": 3
   },
   "file_extension": ".py",
   "mimetype": "text/x-python",
   "name": "python",
   "nbconvert_exporter": "python",
   "pygments_lexer": "ipython3",
   "version": "3.9.2"
  }
 },
 "nbformat": 4,
 "nbformat_minor": 5
}
