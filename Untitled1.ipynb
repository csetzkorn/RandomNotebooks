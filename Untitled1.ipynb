{
 "cells": [
  {
   "cell_type": "code",
   "execution_count": 5,
   "id": "animal-namibia",
   "metadata": {},
   "outputs": [
    {
     "data": {
      "text/html": [
       "-0.56"
      ],
      "text/latex": [
       "-0.56"
      ],
      "text/markdown": [
       "-0.56"
      ],
      "text/plain": [
       "[1] -0.56"
      ]
     },
     "metadata": {},
     "output_type": "display_data"
    }
   ],
   "source": [
    "P1 <- 2\n",
    "P2 <- 3\n",
    "Q1 <- 100\n",
    "Q2 <- 80\n",
    "\n",
    "E <- ((Q2-Q1)/((Q2+Q1)/2))/((P2-P1)/((P2+P1)/2))\n",
    "round(E,2)"
   ]
  },
  {
   "cell_type": "code",
   "execution_count": null,
   "id": "presidential-flower",
   "metadata": {},
   "outputs": [],
   "source": []
  },
  {
   "cell_type": "code",
   "execution_count": null,
   "id": "everyday-replica",
   "metadata": {},
   "outputs": [],
   "source": []
  }
 ],
 "metadata": {
  "kernelspec": {
   "display_name": "R",
   "language": "R",
   "name": "ir"
  },
  "language_info": {
   "codemirror_mode": "r",
   "file_extension": ".r",
   "mimetype": "text/x-r-source",
   "name": "R",
   "pygments_lexer": "r",
   "version": "4.0.4"
  }
 },
 "nbformat": 4,
 "nbformat_minor": 5
}
