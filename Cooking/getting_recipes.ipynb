{
 "cells": [
  {
   "cell_type": "code",
   "execution_count": 11,
   "id": "worse-canal",
   "metadata": {},
   "outputs": [
    {
     "data": {
      "text/plain": [
       "{'servingSize': '1 cup',\n",
       " 'calories': '290',\n",
       " 'sugarContent': '4 g',\n",
       " 'sodiumContent': '698.4 mg',\n",
       " 'fatContent': '17.2 g',\n",
       " 'saturatedFatContent': '5 g',\n",
       " 'transFatContent': '0 g',\n",
       " 'carbohydrateContent': '26.9 g',\n",
       " 'fiberContent': '4.8 g',\n",
       " 'proteinContent': '9 g',\n",
       " 'cholesterolContent': '18.9 mg'}"
      ]
     },
     "execution_count": 11,
     "metadata": {},
     "output_type": "execute_result"
    }
   ],
   "source": [
    "\n",
    "# com\n",
    "from recipe_scrapers import scrape_me\n",
    "\n",
    "\n",
    "scraper = scrape_me('https://www.feastingathome.com/greek-pasta-salad/', wild_mode=True)\n",
    "\n",
    "scraper.title()\n",
    "scraper.total_time()\n",
    "scraper.yields()\n",
    "scraper.ingredients()\n",
    "scraper.instructions()\n",
    "scraper.image()\n",
    "scraper.host()\n",
    "scraper.links()\n",
    "scraper.nutrients()  # if available"
   ]
  },
  {
   "cell_type": "code",
   "execution_count": 12,
   "id": "obvious-tuesday",
   "metadata": {},
   "outputs": [
    {
     "data": {
      "text/plain": [
       "['1 1/2 cups, 9-10 oz, orzo pasta',\n",
       " '1/4 red onion, about 1/3 cup, diced small',\n",
       " '1 red bell pepper (or 1/2 red, 1/2 green), chopped small',\n",
       " '2 tablespoons fresh oregano or 2 teaspoons dried oregano',\n",
       " '15 oz can chickpeas, 1 1/2 cups, drained',\n",
       " '1/3 cup kalamata olives, sliced',\n",
       " '2 cups thin skinned cucumber, chopped small',\n",
       " '1 pint cherry tomatoes, halved or quartered',\n",
       " '1/2 cup fresh parsley, finely chopped',\n",
       " '1/4 cup basil and/or mint for garnish if desired',\n",
       " '6-8 oz feta cheese (sheep’s feta is the best!), optional',\n",
       " '1/4 cup red wine vinegar',\n",
       " '1/4 cup lemon juice',\n",
       " '1 teaspoon dijon mustard',\n",
       " '2 garlic cloves, pressed or minced',\n",
       " '2 teaspoons dried oregano',\n",
       " '1 teaspoon salt',\n",
       " '1/2 teaspoon black pepper',\n",
       " '1/2 cup olive oil']"
      ]
     },
     "execution_count": 12,
     "metadata": {},
     "output_type": "execute_result"
    }
   ],
   "source": [
    "scraper.ingredients()"
   ]
  },
  {
   "cell_type": "code",
   "execution_count": 6,
   "id": "taken-detroit",
   "metadata": {},
   "outputs": [
    {
     "data": {
      "text/plain": [
       "'BLISTER TOMATOES\\nIn a large skillet, heat oil over medium-high heat. Add tomatoes (whole) and sear, stirring occasionally, until they burst and soften, about 7 minutes. Turn heat off. Chop if extra-large.\\nMAKE RISOTTO\\nAt the same time, in a large heavy-bottomed pot or dutch oven, heat the olive oil over medium heat and add the onions. Saute until golden about 10-12 minutes. Add garlic and thyme, saute 2 more minutes until fragrant.\\nAdd the rice, saute 1 minute, stirring. Add 2 cups warm stock (enough to cover the rice), saffron and smoked paprika, stir and bring to a simmer. Simmer until most of the liquid is absorbed. Add 1 cup broth and the tomatoes and all their juices. Stir until all the liquid is absorbed. Continue adding broth 1 cup at a time, letting the rice absorb it slowly, stirring often over med-low heat, until the rice is plumped, slightly al dente, yet creamy, about 20-25 minutes. You may not need all 8 cups. ( I used 6 3/4).\\nStir in the butter and parmesan. Season generously with salt, pepper, and optional chili flakes. Taste, adjust salt. If bland, it probably needs more salt.\\nServe\\nas a flavorful side or vegetarian main, garnishing with fresh parsley and lemon zest.\\nOptional Seared Prawns:\\nIf adding the prawns, mix spices and salt in a bowl. Coat shrimp with the spices. Heat 2-3 tablespoons oil in a skillet (you may need to do this in batches) over medium-high heat, sear each side 2-3 minutes or until cooked through. Top the risotto with the seared prawns.'"
      ]
     },
     "execution_count": 6,
     "metadata": {},
     "output_type": "execute_result"
    }
   ],
   "source": [
    "scraper.instructions()"
   ]
  },
  {
   "cell_type": "code",
   "execution_count": null,
   "id": "anticipated-stylus",
   "metadata": {},
   "outputs": [],
   "source": []
  }
 ],
 "metadata": {
  "kernelspec": {
   "display_name": "Python 3",
   "language": "python",
   "name": "python3"
  },
  "language_info": {
   "codemirror_mode": {
    "name": "ipython",
    "version": 3
   },
   "file_extension": ".py",
   "mimetype": "text/x-python",
   "name": "python",
   "nbconvert_exporter": "python",
   "pygments_lexer": "ipython3",
   "version": "3.9.2"
  }
 },
 "nbformat": 4,
 "nbformat_minor": 5
}
